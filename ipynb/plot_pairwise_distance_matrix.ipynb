{
 "cells": [
  {
   "cell_type": "code",
   "execution_count": 1,
   "metadata": {
    "collapsed": false
   },
   "outputs": [],
   "source": [
    "%matplotlib inline"
   ]
  },
  {
   "cell_type": "code",
   "execution_count": 8,
   "metadata": {
    "collapsed": false
   },
   "outputs": [],
   "source": [
    "import psycopg2 \n",
    "import pandas as pd\n",
    "import matplotlib.pyplot as plt\n",
    "import seaborn as sns\n",
    "\n",
    "pd.set_option('display.mpl_style', 'default')"
   ]
  },
  {
   "cell_type": "code",
   "execution_count": 62,
   "metadata": {
    "collapsed": false
   },
   "outputs": [],
   "source": [
    "ebgs = ['ebg_13_snps', 'ebg_4_snps', 'ebg_1_snps']\n",
    "ebg_res = []\n",
    "for e in ebgs:\n",
    "    conn_string = 'host = \\'158.119.147.166\\' dbname = \\'%s\\' user = \\'philip\\' password = \\'20031986\\'' % e\n",
    "    conn = psycopg2.connect(conn_string)\n",
    "    ebg_res.append(pd.read_sql('select * from dist_matrix where snp_dist < 200', conn))\n"
   ]
  },
  {
   "cell_type": "code",
   "execution_count": 42,
   "metadata": {
    "collapsed": true
   },
   "outputs": [],
   "source": [
    "def setup_graph(title='', x_label='', y_label='', fig_size=None):\n",
    "    fig = plt.figure()\n",
    "    if fig_size != None:\n",
    "        fig.set_size_inches(fig_size[0], fig_size[1])\n",
    "    ax = fig.add_subplot(111)\n",
    "    ax.set_title(title)\n",
    "    ax.set_xlabel(x_label)\n",
    "    ax.set_ylabel(y_label)"
   ]
  },
  {
   "cell_type": "code",
   "execution_count": 64,
   "metadata": {
    "collapsed": false
   },
   "outputs": [
    {
     "data": {
      "text/plain": [
       "(array([ 0.00236368,  0.00073978,  0.00064097,  0.00080594,  0.00113931,\n",
       "         0.00147956,  0.00153798,  0.00191431,  0.00258793,  0.00339043,\n",
       "         0.00449537,  0.0058091 ,  0.00683757,  0.0074098 ,  0.00820457,\n",
       "         0.00944698,  0.01132006,  0.01247913,  0.01353595,  0.01414427,\n",
       "         0.01459965,  0.01439602,  0.01531623,  0.01603195,  0.01652256,\n",
       "         0.01627768,  0.01570115,  0.01514697,  0.01531623,  0.01484453,\n",
       "         0.01429034,  0.01343543,  0.01265269,  0.01251607,  0.01243015,\n",
       "         0.01200742,  0.01175224,  0.01156149,  0.011235  ,  0.0109695 ,\n",
       "         0.01019535,  0.00962226,  0.0090801 ,  0.00830768,  0.00730498,\n",
       "         0.00692693,  0.00621722,  0.00534685,  0.00495247,  0.00437766,\n",
       "         0.00418004,  0.00361554,  0.00313954,  0.00267213,  0.00240664,\n",
       "         0.00218239,  0.0019779 ,  0.00178973,  0.00164366,  0.00143574,\n",
       "         0.0012785 ,  0.00117282,  0.00108604,  0.00106799,  0.00105854,\n",
       "         0.00083515,  0.00077672,  0.00070885,  0.00067448,  0.00058856,\n",
       "         0.00055505,  0.00050693,  0.00042359,  0.00041586,  0.00037977,\n",
       "         0.00034626,  0.00033853,  0.00028268,  0.0003222 ,  0.00025604,\n",
       "         0.00027752,  0.00025862,  0.00024487,  0.00026464,  0.00025776,\n",
       "         0.00026979,  0.00030588,  0.00027323,  0.00026378,  0.00027495,\n",
       "         0.00024573,  0.00023027,  0.00024316,  0.00022168,  0.00018817,\n",
       "         0.00021222,  0.00020363,  0.00019332,  0.00017356,  0.00017442]),\n",
       " array([   0.  ,    1.99,    3.98,    5.97,    7.96,    9.95,   11.94,\n",
       "          13.93,   15.92,   17.91,   19.9 ,   21.89,   23.88,   25.87,\n",
       "          27.86,   29.85,   31.84,   33.83,   35.82,   37.81,   39.8 ,\n",
       "          41.79,   43.78,   45.77,   47.76,   49.75,   51.74,   53.73,\n",
       "          55.72,   57.71,   59.7 ,   61.69,   63.68,   65.67,   67.66,\n",
       "          69.65,   71.64,   73.63,   75.62,   77.61,   79.6 ,   81.59,\n",
       "          83.58,   85.57,   87.56,   89.55,   91.54,   93.53,   95.52,\n",
       "          97.51,   99.5 ,  101.49,  103.48,  105.47,  107.46,  109.45,\n",
       "         111.44,  113.43,  115.42,  117.41,  119.4 ,  121.39,  123.38,\n",
       "         125.37,  127.36,  129.35,  131.34,  133.33,  135.32,  137.31,\n",
       "         139.3 ,  141.29,  143.28,  145.27,  147.26,  149.25,  151.24,\n",
       "         153.23,  155.22,  157.21,  159.2 ,  161.19,  163.18,  165.17,\n",
       "         167.16,  169.15,  171.14,  173.13,  175.12,  177.11,  179.1 ,\n",
       "         181.09,  183.08,  185.07,  187.06,  189.05,  191.04,  193.03,\n",
       "         195.02,  197.01,  199.  ]),\n",
       " <a list of 100 Patch objects>)"
      ]
     },
     "execution_count": 64,
     "metadata": {},
     "output_type": "execute_result"
    },
    {
     "data": {
      "image/png": "[encoded data removed]",
      "text/plain": [
       "<matplotlib.figure.Figure at 0x139562510>"
      ]
     },
     "metadata": {},
     "output_type": "display_data"
    }
   ],
   "source": [
    "setup_graph(fig_size = (12, 8))\n",
    "\n",
    "# plt.hist(ebg_res[0]['snp_dist'], 100, normed = True, color = 'blue', alpha = .3)\n",
    "# plt.hist(ebg_res[1]['snp_dist'], 100, normed = True, color = 'red', alpha = .3)\n",
    "plt.hist(ebg_res[2]['snp_dist'], 100, normed = True, color = 'yellow', alpha = .5)\n"
   ]
  },
  {
   "cell_type": "code",
   "execution_count": 30,
   "metadata": {
    "collapsed": false
   },
   "outputs": [
    {
     "data": {
      "text/plain": [
       "(array([ 0.01044039,  0.00412121,  0.        ,  0.00508282,  0.        ,\n",
       "         0.00631918,  0.01153938,  0.        ,  0.01579796,  0.        ,\n",
       "         0.02060604,  0.02802421,  0.        ,  0.02541411,  0.        ,\n",
       "         0.02349088,  0.01936968,  0.        ,  0.01291312,  0.        ,\n",
       "         0.00837979,  0.        ,  0.00947878,  0.00769292,  0.        ,\n",
       "         0.00810504,  0.        ,  0.0098909 ,  0.01524847,  0.        ,\n",
       "         0.01552321,  0.        ,  0.02088078,  0.02197977,  0.        ,\n",
       "         0.02761209,  0.        ,  0.02967269,  0.03956359,  0.        ,\n",
       "         0.04382217,  0.        ,  0.05206459,  0.        ,  0.06168074,\n",
       "         0.0655272 ,  0.        ,  0.07198376,  0.        ,  0.08201203,\n",
       "         0.09039182,  0.        ,  0.07637971,  0.        ,  0.06964841,\n",
       "         0.06827467,  0.        ,  0.05728478,  0.        ,  0.04450904,\n",
       "         0.        ,  0.0311838 ,  0.03077168,  0.        ,  0.02555149,\n",
       "         0.        ,  0.02431512,  0.02761209,  0.        ,  0.02211715,\n",
       "         0.        ,  0.02431512,  0.02623835,  0.        ,  0.02802421,\n",
       "         0.        ,  0.02637573,  0.02981007,  0.        ,  0.02926057,\n",
       "         0.        ,  0.02555149,  0.        ,  0.02761209,  0.02829896,\n",
       "         0.        ,  0.02596361,  0.        ,  0.02678785,  0.02143028,\n",
       "         0.        ,  0.01305049,  0.        ,  0.00879191,  0.00508282,\n",
       "         0.        ,  0.00302222,  0.        ,  0.00233535,  0.00068687]),\n",
       " array([  0.  ,   0.59,   1.18,   1.77,   2.36,   2.95,   3.54,   4.13,\n",
       "          4.72,   5.31,   5.9 ,   6.49,   7.08,   7.67,   8.26,   8.85,\n",
       "          9.44,  10.03,  10.62,  11.21,  11.8 ,  12.39,  12.98,  13.57,\n",
       "         14.16,  14.75,  15.34,  15.93,  16.52,  17.11,  17.7 ,  18.29,\n",
       "         18.88,  19.47,  20.06,  20.65,  21.24,  21.83,  22.42,  23.01,\n",
       "         23.6 ,  24.19,  24.78,  25.37,  25.96,  26.55,  27.14,  27.73,\n",
       "         28.32,  28.91,  29.5 ,  30.09,  30.68,  31.27,  31.86,  32.45,\n",
       "         33.04,  33.63,  34.22,  34.81,  35.4 ,  35.99,  36.58,  37.17,\n",
       "         37.76,  38.35,  38.94,  39.53,  40.12,  40.71,  41.3 ,  41.89,\n",
       "         42.48,  43.07,  43.66,  44.25,  44.84,  45.43,  46.02,  46.61,\n",
       "         47.2 ,  47.79,  48.38,  48.97,  49.56,  50.15,  50.74,  51.33,\n",
       "         51.92,  52.51,  53.1 ,  53.69,  54.28,  54.87,  55.46,  56.05,\n",
       "         56.64,  57.23,  57.82,  58.41,  59.  ]),\n",
       " <a list of 100 Patch objects>)"
      ]
     },
     "execution_count": 30,
     "metadata": {},
     "output_type": "execute_result"
    },
    {
     "data": {
      "image/png": "[encoded data removed]",
      "text/plain": [
       "<matplotlib.figure.Figure at 0x10d60d050>"
      ]
     },
     "metadata": {},
     "output_type": "display_data"
    }
   ],
   "source": [
    "ebg13 = ebg13[(ebg13['snp_dist'] < 60)]\n",
    "plt.hist(ebg13['snp_dist'], 100, normed = True)"
   ]
  },
  {
   "cell_type": "code",
   "execution_count": null,
   "metadata": {
    "collapsed": true
   },
   "outputs": [],
   "source": []
  }
 ],
 "metadata": {
  "kernelspec": {
   "display_name": "Python 2",
   "language": "python",
   "name": "python2"
  },
  "language_info": {
   "codemirror_mode": {
    "name": "ipython",
    "version": 2
   },
   "file_extension": ".py",
   "mimetype": "text/x-python",
   "name": "python",
   "nbconvert_exporter": "python",
   "pygments_lexer": "ipython2",
   "version": "2.7.9"
  }
 },
 "nbformat": 4,
 "nbformat_minor": 0
}
